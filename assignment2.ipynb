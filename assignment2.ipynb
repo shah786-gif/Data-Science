{
 "cells": [
  {
   "cell_type": "code",
   "execution_count": 2,
   "metadata": {},
   "outputs": [],
   "source": [
    "import pandas as pd"
   ]
  },
  {
   "cell_type": "code",
   "execution_count": null,
   "metadata": {},
   "outputs": [
    {
     "name": "stdout",
     "output_type": "stream",
     "text": [
      "[['A very, very, very slow-moving, aimless movie about a distressed, drifting young man.', 'Negative'], ['Not sure who was more lost - the flat characters or the audience, nearly half of whom walked out.', 'Negative'], ['The best scene in the movie was when Gerardo is trying to find a song that keeps running through his head.', 'Lable: Positive'], ['Saw the movie today and thought it was a good effort, good messages for kids.', 'Positive'], ['A bit predictable.', 'Negative'], ['Loved the casting of Jimmy Buffet as the science teacher.', 'Positive'], ['And those baby owls were adorable.', 'Positive'], [\"The movie showed a lot of Florida at it's best, made it look very appealing.\", 'Positive'], ['The Songs Were The Best And The Muppets Were So Hilarious.', 'Positive'], ['It Was So Cool.', 'Positive']]\n"
     ]
    }
   ],
   "source": [
    "# Reading file of labeled sentences\n",
    "\n",
    "file_path = 'data_ass_2.txt'\n",
    "\n",
    "# Open the file and read the lines\n",
    "with open(file_path, 'r') as file:\n",
    "    data = file.readlines()\n",
    "\n",
    "sentences = []\n",
    "sentiments = []\n",
    "\n",
    "for sen in data:\n",
    "    temp = sen.replace('Text: ', '').replace('\"', '').replace('Label: ', '').replace('\\n', '')\n",
    "    temp = temp.split(' | ')\n",
    "    sentences.append(temp[0])\n",
    "    sentiments.append(temp[1])\n",
    "\n",
    "\n",
    "print(sentences)\n",
    "# # Print the content of the file\n",
    "# for line in data:\n",
    "#     print(line.strip()"
   ]
  },
  {
   "cell_type": "code",
   "execution_count": null,
   "metadata": {},
   "outputs": [],
   "source": []
  }
 ],
 "metadata": {
  "kernelspec": {
   "display_name": "env",
   "language": "python",
   "name": "python3"
  },
  "language_info": {
   "codemirror_mode": {
    "name": "ipython",
    "version": 3
   },
   "file_extension": ".py",
   "mimetype": "text/x-python",
   "name": "python",
   "nbconvert_exporter": "python",
   "pygments_lexer": "ipython3",
   "version": "3.13.0"
  }
 },
 "nbformat": 4,
 "nbformat_minor": 2
}
