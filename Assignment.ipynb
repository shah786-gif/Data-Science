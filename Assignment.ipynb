{
  "nbformat": 4,
  "nbformat_minor": 0,
  "metadata": {
    "colab": {
      "provenance": []
    },
    "kernelspec": {
      "name": "python3",
      "display_name": "Python 3"
    },
    "language_info": {
      "name": "python"
    }
  },
  "cells": [
    {
      "cell_type": "markdown",
      "source": [
        "# Dataset Loading\n",
        "\n"
      ],
      "metadata": {
        "id": "LkH4cHtHG7F0"
      }
    },
    {
      "cell_type": "code",
      "source": [
        "import pandas as pd\n",
        "\n",
        "# Load the dataset\n",
        "df = pd.read_csv('/content/iris.csv')\n",
        "\n",
        "# Check the first few rows\n",
        "print(\"First 5 rows of the dataset:\")\n",
        "print(df.head())\n"
      ],
      "metadata": {
        "colab": {
          "base_uri": "https://localhost:8080/"
        },
        "id": "YNKcgSrSHJuL",
        "outputId": "317a7553-60f4-448f-d1f3-0fb624171d35"
      },
      "execution_count": 2,
      "outputs": [
        {
          "output_type": "stream",
          "name": "stdout",
          "text": [
            "First 5 rows of the dataset:\n",
            "   sepal_length  sepal_width  petal_length  petal_width species\n",
            "0           5.1          3.5           1.4          0.2  setosa\n",
            "1           4.9          3.0           1.4          0.2  setosa\n",
            "2           4.7          3.2           1.3          0.2  setosa\n",
            "3           4.6          3.1           1.5          0.2  setosa\n",
            "4           5.0          3.6           1.4          0.2  setosa\n"
          ]
        }
      ]
    },
    {
      "cell_type": "markdown",
      "source": [
        "#Data Pre-processing\n",
        "##Handle Missing Values\n",
        "\n"
      ],
      "metadata": {
        "id": "Omaf41FVHUeA"
      }
    },
    {
      "cell_type": "code",
      "source": [
        "# Check for missing values\n",
        "print(\"\\nMissing values in each column:\")\n",
        "print(df.isnull().sum())\n",
        "\n"
      ],
      "metadata": {
        "colab": {
          "base_uri": "https://localhost:8080/"
        },
        "id": "ItmDcPk2He12",
        "outputId": "1c15e8df-b420-4459-80dd-ec67ed3e6c73"
      },
      "execution_count": 4,
      "outputs": [
        {
          "output_type": "stream",
          "name": "stdout",
          "text": [
            "\n",
            "Missing values in each column:\n",
            "sepal_length    0\n",
            "sepal_width     0\n",
            "petal_length    0\n",
            "petal_width     0\n",
            "species         0\n",
            "dtype: int64\n"
          ]
        }
      ]
    },
    {
      "cell_type": "code",
      "source": [
        "# Identify numerical columns\n",
        "numerical_cols = df.select_dtypes(include=['float64', 'int64']).columns\n",
        "\n",
        "# Fill missing values in numerical columns with their mean\n",
        "df[numerical_cols] = df[numerical_cols].fillna(df[numerical_cols].mean())\n",
        "\n",
        "# Verify if missing values are handled\n",
        "print(\"\\nMissing values after handling:\")\n",
        "print(df.isnull().sum())\n"
      ],
      "metadata": {
        "colab": {
          "base_uri": "https://localhost:8080/"
        },
        "id": "Gp-S87JaIoio",
        "outputId": "2d1bdb09-7ea8-4480-fb3c-2214b362d3e2"
      },
      "execution_count": 5,
      "outputs": [
        {
          "output_type": "stream",
          "name": "stdout",
          "text": [
            "\n",
            "Missing values after handling:\n",
            "sepal_length    0\n",
            "sepal_width     0\n",
            "petal_length    0\n",
            "petal_width     0\n",
            "species         0\n",
            "dtype: int64\n"
          ]
        }
      ]
    },
    {
      "cell_type": "markdown",
      "source": [
        "##Convert Categorical Data to Numerical Format"
      ],
      "metadata": {
        "id": "HjTbB4SKIs8M"
      }
    },
    {
      "cell_type": "code",
      "source": [
        "# Check for categorical columns\n",
        "print(\"\\nData types of columns:\")\n",
        "print(df.dtypes)\n",
        "\n",
        "# Apply one-hot encoding for categorical columns\n",
        "df = pd.get_dummies(df, drop_first=True)\n",
        "\n",
        "print(\"\\nData after encoding:\")\n",
        "print(df.head())\n"
      ],
      "metadata": {
        "colab": {
          "base_uri": "https://localhost:8080/"
        },
        "id": "0VK7YYFmIy9m",
        "outputId": "b15b06a6-ad10-4755-aaad-ec636a0d7bf0"
      },
      "execution_count": 7,
      "outputs": [
        {
          "output_type": "stream",
          "name": "stdout",
          "text": [
            "\n",
            "Data types of columns:\n",
            "sepal_length          float64\n",
            "sepal_width           float64\n",
            "petal_length          float64\n",
            "petal_width           float64\n",
            "species_versicolor       bool\n",
            "species_virginica        bool\n",
            "dtype: object\n",
            "\n",
            "Data after encoding:\n",
            "   sepal_length  sepal_width  petal_length  petal_width  species_versicolor  \\\n",
            "0           5.1          3.5           1.4          0.2               False   \n",
            "1           4.9          3.0           1.4          0.2               False   \n",
            "2           4.7          3.2           1.3          0.2               False   \n",
            "3           4.6          3.1           1.5          0.2               False   \n",
            "4           5.0          3.6           1.4          0.2               False   \n",
            "\n",
            "   species_virginica  \n",
            "0              False  \n",
            "1              False  \n",
            "2              False  \n",
            "3              False  \n",
            "4              False  \n"
          ]
        }
      ]
    },
    {
      "cell_type": "markdown",
      "source": [
        "##Normalize or Scale Numerical Data"
      ],
      "metadata": {
        "id": "xvIu7C57I4FT"
      }
    },
    {
      "cell_type": "code",
      "source": [
        "from sklearn.preprocessing import StandardScaler\n",
        "\n",
        "# Identify numerical columns\n",
        "numerical_cols = df.select_dtypes(include=['float64', 'int64']).columns\n",
        "\n",
        "# Standardize numerical columns\n",
        "scaler = StandardScaler()\n",
        "df[numerical_cols] = scaler.fit_transform(df[numerical_cols])\n",
        "\n",
        "print(\"\\nData after scaling numerical columns:\")\n",
        "print(df.head())\n"
      ],
      "metadata": {
        "colab": {
          "base_uri": "https://localhost:8080/"
        },
        "id": "1BLqSIuCI8bB",
        "outputId": "858e154a-d2fd-48e8-9168-f56d24ffa8e4"
      },
      "execution_count": 9,
      "outputs": [
        {
          "output_type": "stream",
          "name": "stdout",
          "text": [
            "\n",
            "Data after scaling numerical columns:\n",
            "   sepal_length  sepal_width  petal_length  petal_width  species_versicolor  \\\n",
            "0     -0.900681     1.019004     -1.340227    -1.315444               False   \n",
            "1     -1.143017    -0.131979     -1.340227    -1.315444               False   \n",
            "2     -1.385353     0.328414     -1.397064    -1.315444               False   \n",
            "3     -1.506521     0.098217     -1.283389    -1.315444               False   \n",
            "4     -1.021849     1.249201     -1.340227    -1.315444               False   \n",
            "\n",
            "   species_virginica  \n",
            "0              False  \n",
            "1              False  \n",
            "2              False  \n",
            "3              False  \n",
            "4              False  \n"
          ]
        }
      ]
    },
    {
      "cell_type": "markdown",
      "source": [
        "##Check for Duplicate Rows"
      ],
      "metadata": {
        "id": "w4z9_J3HJEiC"
      }
    },
    {
      "cell_type": "code",
      "source": [
        "# Check for duplicates\n",
        "print(\"\\nNumber of duplicate rows:\")\n",
        "print(df.duplicated().sum())\n",
        "\n",
        "# Remove duplicate rows\n",
        "df.drop_duplicates(inplace=True)\n",
        "\n",
        "print(\"\\nData after removing duplicates:\")\n",
        "print(df.head())\n"
      ],
      "metadata": {
        "colab": {
          "base_uri": "https://localhost:8080/"
        },
        "id": "reO9mWm4JJiB",
        "outputId": "88eb7d6e-48f6-428f-ac66-7eeebc776d71"
      },
      "execution_count": 10,
      "outputs": [
        {
          "output_type": "stream",
          "name": "stdout",
          "text": [
            "\n",
            "Number of duplicate rows:\n",
            "1\n",
            "\n",
            "Data after removing duplicates:\n",
            "   sepal_length  sepal_width  petal_length  petal_width  species_versicolor  \\\n",
            "0     -0.900681     1.019004     -1.340227    -1.315444               False   \n",
            "1     -1.143017    -0.131979     -1.340227    -1.315444               False   \n",
            "2     -1.385353     0.328414     -1.397064    -1.315444               False   \n",
            "3     -1.506521     0.098217     -1.283389    -1.315444               False   \n",
            "4     -1.021849     1.249201     -1.340227    -1.315444               False   \n",
            "\n",
            "   species_virginica  \n",
            "0              False  \n",
            "1              False  \n",
            "2              False  \n",
            "3              False  \n",
            "4              False  \n"
          ]
        }
      ]
    },
    {
      "cell_type": "markdown",
      "source": [
        "#Basic Exploratory Data Analysis (EDA)\n",
        "##Summary Statistics"
      ],
      "metadata": {
        "id": "0tab284oJMWY"
      }
    },
    {
      "cell_type": "code",
      "source": [
        "# Summary statistics\n",
        "print(\"\\nSummary statistics:\")\n",
        "print(df.describe())\n"
      ],
      "metadata": {
        "colab": {
          "base_uri": "https://localhost:8080/"
        },
        "id": "hgkJYIHZJXl5",
        "outputId": "26184ff2-ea97-456f-faaa-6fb3eb92c097"
      },
      "execution_count": 11,
      "outputs": [
        {
          "output_type": "stream",
          "name": "stdout",
          "text": [
            "\n",
            "Summary statistics:\n",
            "       sepal_length  sepal_width  petal_length  petal_width\n",
            "count    149.000000   149.000000    149.000000   149.000000\n",
            "mean       0.000352     0.005521     -0.005119    -0.006190\n",
            "std        1.006725     1.004446      1.004767     1.003856\n",
            "min       -1.870024    -2.433947     -1.567576    -1.447076\n",
            "25%       -0.900681    -0.592373     -1.226552    -1.183812\n",
            "50%       -0.052506    -0.131979      0.308059     0.132510\n",
            "75%        0.674501     0.558611      0.762758     0.790671\n",
            "max        2.492019     3.090775      1.785832     1.712096\n"
          ]
        }
      ]
    },
    {
      "cell_type": "markdown",
      "source": [
        "## Visualizing Data"
      ],
      "metadata": {
        "id": "NFhl08qXJb2_"
      }
    },
    {
      "cell_type": "code",
      "source": [
        "import matplotlib.pyplot as plt\n",
        "import seaborn as sns\n",
        "\n",
        "# Histogram for a numerical column\n",
        "df['sepal_length'].hist()\n",
        "plt.title('Histogram of Sepal Length')\n",
        "plt.xlabel('Sepal Length (Standardized)')\n",
        "plt.ylabel('Frequency')\n",
        "plt.show()\n",
        "\n",
        "# Boxplot to visualize outliers\n",
        "sns.boxplot(x=df['sepal_length'])\n",
        "plt.title('Boxplot of Sepal Length')\n",
        "plt.show()\n"
      ],
      "metadata": {
        "colab": {
          "base_uri": "https://localhost:8080/",
          "height": 927
        },
        "id": "AD0DSd8KJjae",
        "outputId": "24cc40b8-21fd-4971-f51c-468110cd420a"
      },
      "execution_count": 13,
      "outputs": [
        {
          "output_type": "display_data",
          "data": {
            "text/plain": [
              "<Figure size 640x480 with 1 Axes>"
            ],
            "image/png": "[encoded data removed]"
          },
          "metadata": {}
        },
        {
          "output_type": "display_data",
          "data": {
            "text/plain": [
              "<Figure size 640x480 with 1 Axes>"
            ],
            "image/png": "[encoded data removed]"
          },
          "metadata": {}
        }
      ]
    }
  ]
}